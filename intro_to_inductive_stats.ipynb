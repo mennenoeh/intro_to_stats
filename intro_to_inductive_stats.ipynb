{
 "cells": [
  {
   "cell_type": "code",
   "execution_count": 2,
   "metadata": {},
   "outputs": [],
   "source": [
    "import numpy as np\n",
    "import scipy.stats\n",
    "import matplotlib.pyplot as plt\n",
    "from custom_functions import get_sales_change_rates_percent, get_abs_err_confidence_interval, show_data\n"
   ]
  },
  {
   "attachments": {},
   "cell_type": "markdown",
   "metadata": {},
   "source": [
    "# Daten gleich, Konfidenzintervalle anders. Wie kann das sein?\n",
    "\n",
    "Hi! Schön, dass Du wieder dabei bist. Mir ist aufgefallen, dass viele Python-Packages (und Menschen) Konfidenzintervalle immer auf die gleiche Art und Weise berechnen und dabei implizite Prämissen annehmen, die nicht zwangsläufig erfüllt sein müssen.\n",
    "\n",
    "Diese Prämissen sind z.B.\n",
    "- Wir nehmen ein 95% Konfidenzintervall an.\n",
    "- Wir nehmen ein zweiseitiges Konfidenzintervall an.\n",
    "- Wir ziehen \"mit Zurücklegen\".\n",
    "- Wir nehmen eine \"unendliche\" Grundgesamtheit an.\n",
    "- Wir \"kennen\" die Grundgesamtheit nicht.\n",
    "- Wir nehmen eine Normalverteilung an.\n",
    "\n",
    "\"Schuld\" daran ist häufig die akademische Sozialisierung. Ihr kennt es z.B. aus vielen Vorlesungen oder Büchern: \"In der Regel sind die Parameter der »Grundgesamtheit« unbekannt [...]\" (http://eswf.uni-koeln.de/glossar/node145.html) Aber ist das im Businesskontext tatsächlich immer so?\n",
    "\n",
    "Um auf eine einfache Weise in die Konzepte einzusteigen, starten zunächst immer mit dem Beispiel des \"Ein-Stichproben-Falls\". Disclaimer (wie immer): Ich vermische hier aus didaktischen Gründen einiges. Z.B. Erwartungswert, Mittelwert etc. Es geht jedoch hier nur darum, die o.g. Prämissen zu variieren, um zu verstehen, welchen Einfluss sie haben. Ich gehe dabei von statistischem Vorwissen aus, da sich der Beitrag an Data Scientists wendet."
   ]
  },
  {
   "attachments": {},
   "cell_type": "markdown",
   "metadata": {},
   "source": [
    "# Zuerst mal ein paar Grundbegriffe\n",
    "## Inferenzstatistik\n",
    "\n",
    "Die Begriffe \"Signifikanz\" oder auch \"Konfidenzintervall\" stehen auf dem Fundament der Inferenzstatistik. In der Inferenzstatistik geht es darum, von den Eigenschaften einer __Zufallsstichprobe__ auf die Eigenschaften einer __Grundgesamtheit__ zu schließen. \n",
    "\n",
    "Beispiel: Ich befrage 1.000 zufällig ausgewählte Deutsche Haushalte zu ihrem Wahlverhalten, um eine Einschätzung zu bekommen, wie wohl ganz Deutschland wählen würden. Dieser Schluss vom Teil auf das Gesamte ist natürlich mit Unsicherheit verbunden. Wenn ich zu 100% sicher sein möchte, muss ich leider alle fragen, und nicht nur einen Teil. Wenn ich aber einen Teil befrage, kann ich zumindest die Unsicherheit quantifizieren. Das funktioniert jedoch nur, wenn ich die Befragten zufällig auswähle! Klingt paradox, oder? Nach inhaltlichen Kriterien könnte ich sicher bewusst Personen auswählen, die besser geeignet wären, um von Teil aufs Ganze zu schließen. Nur dann verliere ich leider den \"magic trick\" - nämlich genau sagen zu können, WIE sicher ich denn bin die Eigenschaften auch in der GG wiederzufinden. #isso. Grundsätzlich werde ich immer mehr Vertrauen in die Aussagen aus meiner Stichprobe haben, wenn die Stichprobe größer ist und wenn sich die Eigenschaften in der Stichprobe nicht stark unterscheiden.\n",
    "\n",
    "Eigenschaften der Grundgesamtheit (häufig GG abgekürzt) können z.B. sein:\n",
    "- Der Mittelwert: µ (\"mü\")\n",
    "- Die Streuung: σ (\"sigma\")\n",
    "- Die Verteilungsart der Daten in der GG\n",
    "\n",
    "FAZIT: Inferenzstatistik (und somit \"Signifikanz\" und \"Konfidenzintervall\") machen also keinen Sinn, wenn...\n",
    "- ... ich keine Grundgesamtheit habe oder nicht auf eine Grundgesamtheit schließen möchte.\n",
    "- ... meine Stichprobe nicht zufällig ausgewählt ist."
   ]
  },
  {
   "attachments": {},
   "cell_type": "markdown",
   "metadata": {},
   "source": [
    "## Signifikanz\n",
    "Beispiel: Ich teste ein neues Konzept für Supermärkte. Dafür wähle ich zufällig 30 Supermärkte aus. Ich beobachte, dass Märkte mit dem neuen Konzept durchschnittlich 4% mehr Umsatz machen als im Jahr zuvor. Alle 120 Supermärkte in Summe erwirtschaften im selben Zeitraum 2% mehr Umsatz. Das heißt, Test-Märkte haben eine um zwei Prozentpunkte verbesserte Umsatzentwicklung. Und nun kommt wie immer eine Frage: \"Ist das signifikant?\".\n",
    "\n",
    "Was bedeutet \"signifikant\" nicht?\n",
    "- Besonders bedeutsam\n",
    "- Wichtig\n",
    "\n",
    "Wenn wir von der Bedeutsamkeit sprechen, meinen wir die 2 Prozentpunkte. Dies nennen wir in der Statistik \"Effektstärke\". Diese hat in der Businesswelt eine viel größere Bedeutung, da sich im Business eher Fragen stellen wie: \"Reichen die 2% mehr Umsatz, um den Business Case positiv zu rechnen?\". In der Wissenschaft formulieren wir eher Vermutungen wie: \"Das Konzept hat einen positiven Einfluss.\" und prüfen diese.\n",
    "\n",
    "Etwas ungangssprachlich ausgedrückt beantwortet Signifikanz eher folgenden Frage: \"Kann ich ausschließen, dass der Unterschied von 2 Prozentpunkten eigentlich nur daher rührt, dass ich diese 30 Märkte zufällig ausgewählt habe (und nicht andere).\" Oder anders: \"Wenn ich das Konzept in alle 120 Märkte (GG) einführen würde, sähe ich diesen Effekt auch dort?\" Und weil wir nie etwas zu 100% ausschließen können (s.o.), müssen wir auch sagen, wie sicher wir uns sein möchten. Überlicherweise verwendet man in den Sozialwissenschaften und im Business einen Wert von 95%, während man in der Physik häufig sehr viel höhere Werte verwendet. Diese Werte werden auch Signifikanzniveaus genannt. Ich sage also: \"Ich kann mit 95%-iger Sicherheit ausschließen, dass sich der Mittelwertunterschied nur durch meine Zufallsauswahl ergibt.\" Man darf also genau genommen nie sagen, dass ein Effekt \"signifakant\" ist, ohne auch das Signifikanzniveau zu nennen? Wenn ich nur 50% sicher sein möchte, dann ist nämlich fast jeder Effekt \"signifikant\" ;)\n",
    "\n",
    "Lass uns mal mit etwas Intuition überlegen, was passieren muss, damit ich dem Mittelwertunterschied mehr vertrauen kann, wenn wir alles andere gleich halten:\n",
    "- Ich vertraue mehr, wenn ich __mehr Märkte__ teste. Wenn ich im Extremfall alle 120 Märkte mit dem Konzept beglücke, bin ich zu 100% sicher. Es wären ja dann alle, auf die ich schließen möchte. Wenn ich nur einen Markt teste, vertraue ich weniger, da der Einfluss meiner zufälligen auswahl riesig wird.\n",
    "- Ich vertraue mehr, wenn die Stichprobe und die Grundgesamtheit __wenig streuen__. Wenn sich der Mittelwert der Stichprobe aus einer kleinen Bandbreite an Werten ergibt fühle ich mich sicherer - z.B. 3,5%-4,5%. Wenn sich der Mittelwert aus einer großen Bandbreite ergibt (z.B. -2% bis +10%) würde ich mir schon mehr sorgen machen.\n",
    "- Ich vertraue mehr, wenn der __Unterschied__ (bei gleicher Streuung und gleicher Anzahl der Märkte) größer ist. Einem Unterschied von +10 Prozentpunkten vertraue ich mehr als einem Unterschied von 0,1 Prozentpunkten.\n"
   ]
  },
  {
   "attachments": {},
   "cell_type": "markdown",
   "metadata": {},
   "source": [
    "## Konfidenzintervall\n",
    "Nun gibt es Formeln, die mir sagen, ob ein Effekt signifikant ist, wenn die Informationen zur Streuung, Effektstärke, Stichproben- sowie GG-Größe und Signifikanzniveau zur Verfügung stelle. Aber was, wenn ich nun wissen möchte, bei welcher Effektgröße ein Effekt signikant wird? Es wäre ja nervig, alle möglichen Effektstärken durchzuprobieren, um jeweils erfahren zu müssen ob sie signifikant ist. Und hier kommt das Konfidenzintervall (KI) ins Spiel!\n",
    "\n",
    "Ein Konfidenzintervall besteht aus zwei Werten: einer unteren Grenze und einer oberen Grenze. Im Falle unseres Tests könnte man z.B. sagen:\n",
    "- Mit 95% Wahrscheinlichkeit liegt die zu erwartende Umsatzsteigerung bei 120 Märkten zwischen 3% und 5%. Dies sind die untere und die obere Grenze.\n",
    "- Da wir die Alternative \"nichts tun\" mit 2% bewerten, ist der Unterschied \"signifikant\" bei 95% Sicherheit.\n",
    "\n",
    "Das KI wird dabei immer größer, je sicherer ich mir sein möchte. Wenn ich Effekte gut isolieren möchte, sind jedoch generell kleinere KI wünschenswert. Dies erreiche ich z.B. durch die richtige Wahl der Stichprobengröße.\n",
    "\n",
    "Das Konfidenzintervall ergibt sich dabei wie folgt:\n",
    "\n",
    "Mittelwert (hier: 4%) ± absoluter Fehler (hier: 1%) = [3%; 5%]\n",
    "\n",
    "Wie oben beschrieben wird der absolute Fehler kleiner, wenn...\n",
    "- ... die Stichprobengröße einen größeren Teil der GG umfasst.\n",
    "- ... die Streuung kleiner wird.\n",
    "- ... ich ein höheres Signifikanzniveau zulasse. (Dann werden Effekte wahrscheinlicher \"signifikant\", jedoch ist diese signifikanz dann leider weniger wert.)\n"
   ]
  },
  {
   "attachments": {},
   "cell_type": "markdown",
   "metadata": {},
   "source": [
    "# Beispiel\n",
    "Wir wählen 30 von 120 Supermärkten zufällig aus und beobachten deren Umsatzentwicklung. Nun ist die Frage, in welchem Intervall sich mit 95% Wahrscheinlichkeit die Umsatzentwicklung aller 120 Märkte in Summe befindet.\n",
    "\n",
    "Dazu habe ich ein paar Funktionen selbstgeschrieben und oben importiert, um es hier didaktisch einfacher zu machen.\n",
    "\n",
    "Zunächst besorgen wir uns die Daten und zeigen sie an:"
   ]
  },
  {
   "cell_type": "code",
   "execution_count": 36,
   "metadata": {},
   "outputs": [
    {
     "name": "stdout",
     "output_type": "stream",
     "text": [
      "n=30, mean=-0.029045449615452034, std=0.21651137463317033\n"
     ]
    },
    {
     "data": {
      "image/png": "[encoded data removed]",
      "text/plain": [
       "<Figure size 640x480 with 1 Axes>"
      ]
     },
     "metadata": {},
     "output_type": "display_data"
    }
   ],
   "source": [
    "data = get_sales_change_rates_percent(n=30)\n",
    "show_data(data)\n",
    "plt.show()\n"
   ]
  },
  {
   "attachments": {},
   "cell_type": "markdown",
   "metadata": {},
   "source": [
    "Die 30 Märkte zeigen eine durchschnittliche Umsatzentwicklung von -1,8% und einer Streuung von 18,5 Prozentpunkten. Nun berechnen wir den absoluten Fehler, um zu sehen wir breit das KI ist. Wir verwenden hier die \"Standardeinstellungen\" die von vielen Softwarepackages verwendet werden."
   ]
  },
  {
   "cell_type": "code",
   "execution_count": 50,
   "metadata": {},
   "outputs": [
    {
     "name": "stdout",
     "output_type": "stream",
     "text": [
      "Der absolute Fehler beträgt ± 0.081\n"
     ]
    }
   ],
   "source": [
    "abs_fehler = get_abs_err_confidence_interval(obs=data)\n",
    "print(f\"Der absolute Fehler beträgt ± {abs_fehler:.2}\")\n",
    "results = {\"Standard\": abs_fehler}"
   ]
  },
  {
   "cell_type": "code",
   "execution_count": 44,
   "metadata": {},
   "outputs": [
    {
     "name": "stdout",
     "output_type": "stream",
     "text": [
      "Der absolute Fehler beträgt ± 0.065\n"
     ]
    }
   ],
   "source": [
    "abs_fehler = get_abs_err_confidence_interval(obs=data, alpha=0.1)\n",
    "print(f\"Der absolute Fehler beträgt ± {abs_fehler:.2}\")\n",
    "results[\"+alpha 10%\"] = abs_fehler"
   ]
  },
  {
   "cell_type": "code",
   "execution_count": 45,
   "metadata": {},
   "outputs": [
    {
     "name": "stdout",
     "output_type": "stream",
     "text": [
      "Der absolute Fehler beträgt ± 0.051\n"
     ]
    }
   ],
   "source": [
    "abs_fehler = get_abs_err_confidence_interval(obs=data, alpha=0.1, sided=1)\n",
    "print(f\"Der absolute Fehler beträgt ± {abs_fehler:.2}\")\n",
    "results[\"+sided\"] = abs_fehler"
   ]
  },
  {
   "attachments": {},
   "cell_type": "markdown",
   "metadata": {},
   "source": [
    "Endlichkeitskorrektur = $\\left(\\dfrac{N-n}{N-1}\\right)$ \n",
    "\n",
    "Also wenn zum Beispiel 30 von 120 Subjekten untersucht: $\\left(\\dfrac{120-30}{120-1}\\right) \\approx 0.75$\n"
   ]
  },
  {
   "cell_type": "code",
   "execution_count": 46,
   "metadata": {},
   "outputs": [
    {
     "name": "stdout",
     "output_type": "stream",
     "text": [
      "Der absolute Fehler beträgt ± 0.038\n"
     ]
    }
   ],
   "source": [
    "N=120\n",
    "abs_fehler = get_abs_err_confidence_interval(obs=data, alpha=0.1, sided=1, N=N)\n",
    "print(f\"Der absolute Fehler beträgt ± {abs_fehler:.2}\")\n",
    "results[\"+GG\"] = abs_fehler"
   ]
  },
  {
   "cell_type": "code",
   "execution_count": 47,
   "metadata": {},
   "outputs": [
    {
     "name": "stdout",
     "output_type": "stream",
     "text": [
      "Der absolute Fehler beträgt ± 0.036\n"
     ]
    }
   ],
   "source": [
    "sigma_gg = 0.206\n",
    "abs_fehler = get_abs_err_confidence_interval(obs=data, alpha=0.1, sided=1, N=N, gg_sigma=sigma_gg)\n",
    "print(f\"Der absolute Fehler beträgt ± {abs_fehler:.2}\")\n",
    "results[\"+GG-sigma\"] = abs_fehler"
   ]
  },
  {
   "cell_type": "code",
   "execution_count": 54,
   "metadata": {},
   "outputs": [
    {
     "name": "stdout",
     "output_type": "stream",
     "text": [
      "Der absolute Fehler beträgt ± 0.037\n"
     ]
    }
   ],
   "source": [
    "abs_fehler = get_abs_err_confidence_interval(obs=data, alpha=0.1, sided=1, N=N, gg_sigma=sigma_gg, score=\"t\")\n",
    "print(f\"Der absolute Fehler beträgt ± {abs_fehler:.2}\")\n",
    "results[\"+t_dist\"] = abs_fehler"
   ]
  },
  {
   "cell_type": "code",
   "execution_count": 71,
   "metadata": {},
   "outputs": [
    {
     "name": "stdout",
     "output_type": "stream",
     "text": [
      "0.03730340385614068\n",
      "Der absoluten Fehler betragen -0.085 und -0.014\n",
      "-0.05029752823237488\n",
      "-0.051606531054059435\n",
      "-0.029045449615452034\n",
      "-0.02947561880529801\n",
      "-0.02904544961545208\n"
     ]
    }
   ],
   "source": [
    "log_data = np.log(data+1)\n",
    "abs_fehler = get_abs_err_confidence_interval(obs=log_data, alpha=0.1, sided=1, N=N, gg_sigma=sigma_gg, score=\"t\")\n",
    "print(abs_fehler)\n",
    "lower = np.exp(log_data.mean() - abs_fehler) - 1 # - data.mean()\n",
    "upper = np.exp(log_data.mean() + abs_fehler) - 1 # - data.mean()\n",
    "print(f\"Der absoluten Fehler betragen {lower:.2} und {upper:.2}\")\n",
    "print(np.exp(log_data.mean()) - 1)\n",
    "print(log_data.mean())\n",
    "print(data.mean())\n",
    "print(np.log(data.mean()+1))\n",
    "print(np.exp(np.log(data.mean()+1))-1)\n",
    "# results[\"+assymetrisch\"] = abs_fehler"
   ]
  },
  {
   "attachments": {},
   "cell_type": "markdown",
   "metadata": {},
   "source": [
    "geschätztes sigma: $\\hat \\sigma$\n",
    "\n"
   ]
  },
  {
   "cell_type": "code",
   "execution_count": 49,
   "metadata": {},
   "outputs": [
    {
     "data": {
      "image/png": "[encoded data removed]",
      "text/plain": [
       "<Figure size 640x480 with 1 Axes>"
      ]
     },
     "metadata": {},
     "output_type": "display_data"
    }
   ],
   "source": [
    "plt.bar(results.keys(), results.values())\n",
    "plt.show()"
   ]
  },
  {
   "cell_type": "code",
   "execution_count": 5,
   "metadata": {},
   "outputs": [
    {
     "name": "stdout",
     "output_type": "stream",
     "text": [
      "n=10000, mean=0.019012681864244693, std=0.20841973315334536\n"
     ]
    },
    {
     "data": {
      "image/png": "[encoded data removed]",
      "text/plain": [
       "<Figure size 640x480 with 1 Axes>"
      ]
     },
     "metadata": {},
     "output_type": "display_data"
    },
    {
     "name": "stdout",
     "output_type": "stream",
     "text": [
      "n=10000, mean=-0.001687101906376093, std=0.20269877337759729\n"
     ]
    },
    {
     "data": {
      "image/png": "[encoded data removed]",
      "text/plain": [
       "<Figure size 640x480 with 1 Axes>"
      ]
     },
     "metadata": {},
     "output_type": "display_data"
    },
    {
     "name": "stdout",
     "output_type": "stream",
     "text": [
      "-0.18126924692201818 0.22140275816016985\n"
     ]
    }
   ],
   "source": [
    "data_10K = get_sales_change_rates_percent(n=10000)\n",
    "show_data(data_10K)\n",
    "plt.show()\n",
    "log_data_10K = np.log(data_10K + 1)\n",
    "show_data(log_data_10K)\n",
    "plt.show()\n",
    "\n",
    "print(np.exp(-0.2)-1, np.exp(+0.2)-1)"
   ]
  },
  {
   "cell_type": "code",
   "execution_count": null,
   "metadata": {},
   "outputs": [],
   "source": []
  },
  {
   "cell_type": "code",
   "execution_count": null,
   "metadata": {},
   "outputs": [],
   "source": [
    "abs_fehler = get_abs_err_confidence_interval(obs=data, alpha=0.1, sided=1, N=N, gg_sigma=sigma_gg, score=\"t\")\n",
    "print(f\"Der absolute Fehler beträgt ± {abs_fehler:.2}\")\n",
    "results[\"+t_dist\"] = abs_fehler"
   ]
  }
 ],
 "metadata": {
  "kernelspec": {
   "display_name": "Python 3",
   "language": "python",
   "name": "python3"
  },
  "language_info": {
   "codemirror_mode": {
    "name": "ipython",
    "version": 3
   },
   "file_extension": ".py",
   "mimetype": "text/x-python",
   "name": "python",
   "nbconvert_exporter": "python",
   "pygments_lexer": "ipython3",
   "version": "3.11.0"
  },
  "orig_nbformat": 4,
  "vscode": {
   "interpreter": {
    "hash": "aee8b7b246df8f9039afb4144a1f6fd8d2ca17a180786b69acc140d282b71a49"
   }
  }
 },
 "nbformat": 4,
 "nbformat_minor": 2
}
